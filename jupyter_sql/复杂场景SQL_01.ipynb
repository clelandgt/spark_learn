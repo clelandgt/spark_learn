{
 "cells": [
  {
   "cell_type": "code",
   "execution_count": 1,
   "metadata": {
    "ExecuteTime": {
     "end_time": "2020-04-19T11:44:49.357088Z",
     "start_time": "2020-04-19T11:44:44.427501Z"
    }
   },
   "outputs": [],
   "source": [
    "import pandas as pd\n",
    "from datetime import datetime\n",
    "from pyspark.sql import SparkSession\n",
    "from pyspark.conf import SparkConf\n",
    "from pyspark.sql.types import *\n",
    "from pyspark.sql import functions as F, Window\n",
    "\n",
    "# 配置集群\n",
    "config = SparkConf()\n",
    "config.set('spark.dynamicAllocation.maxExecutors', '8')\n",
    "config.set('spark.driver.memory', '4G')\n",
    "config.set('spark.executor.memory', '8G')\n",
    "config.set('spark.executor.cores', '4')\n",
    "config.set('spark.yarn.executora.memoryOverhead', '4G')\n",
    "config.set('spark.sql.shuffle.partitions', '10')\n",
    "config.set('spark.default.parallelism', '10')\n",
    "config.set('spark.port.maxRetries', '1000')\n",
    "config.set('spark.sql.sources.partitionOverwriteMode', 'dynamic')\n",
    "config.set('spark.master','local[4]')\n",
    "\n",
    "spark = SparkSession.builder.config(conf=config).getOrCreate()"
   ]
  },
  {
   "cell_type": "code",
   "execution_count": 2,
   "metadata": {
    "ExecuteTime": {
     "end_time": "2020-04-19T11:44:51.458259Z",
     "start_time": "2020-04-19T11:44:49.359507Z"
    }
   },
   "outputs": [
    {
     "name": "stderr",
     "output_type": "stream",
     "text": [
      "/usr/lib/spark/python/pyspark/sql/session.py:346: UserWarning: inferring schema from dict is deprecated,please use pyspark.sql.Row instead\n",
      "  warnings.warn(\"inferring schema from dict is deprecated,\"\n"
     ]
    }
   ],
   "source": [
    "spark.createDataFrame(\n",
    "    [\n",
    "        {\"uid\":\"1\",\"date\":\"2020-02-01\",\"is_flag\":\"1\"},\n",
    "        {\"uid\":\"1\",\"date\":\"2020-02-02\",\"is_flag\":\"0\"},\n",
    "        {\"uid\":\"1\",\"date\":\"2020-02-03\",\"is_flag\":\"1\"},\n",
    "        {\"uid\":\"1\",\"date\":\"2020-02-04\",\"is_flag\":\"1\"},\n",
    "        {\"uid\":\"1\",\"date\":\"2020-02-05\",\"is_flag\":\"0\"},\n",
    "        {\"uid\":\"1\",\"date\":\"2020-02-06\",\"is_flag\":\"1\"},\n",
    "        {\"uid\":\"1\",\"date\":\"2020-02-07\",\"is_flag\":\"1\"},\n",
    "        {\"uid\":\"1\",\"date\":\"2020-02-08\",\"is_flag\":\"1\"},\n",
    "        {\"uid\":\"2\",\"date\":\"2020-02-01\",\"is_flag\":\"1\"},\n",
    "        {\"uid\":\"2\",\"date\":\"2020-02-02\",\"is_flag\":\"0\"},\n",
    "        {\"uid\":\"2\",\"date\":\"2020-02-03\",\"is_flag\":\"0\"},\n",
    "        {\"uid\":\"2\",\"date\":\"2020-02-04\",\"is_flag\":\"1\"},\n",
    "        {\"uid\":\"2\",\"date\":\"2020-02-05\",\"is_flag\":\"1\"},\n",
    "        {\"uid\":\"2\",\"date\":\"2020-02-06\",\"is_flag\":\"1\"},\n",
    "        {\"uid\":\"2\",\"date\":\"2020-02-07\",\"is_flag\":\"1\"},\n",
    "        {\"uid\":\"2\",\"date\":\"2020-02-08\",\"is_flag\":\"1\"}\n",
    "    ]\n",
    ").createOrReplaceTempView('base')"
   ]
  },
  {
   "cell_type": "code",
   "execution_count": 3,
   "metadata": {
    "ExecuteTime": {
     "end_time": "2020-04-19T11:44:54.738272Z",
     "start_time": "2020-04-19T11:44:51.460402Z"
    }
   },
   "outputs": [
    {
     "data": {
      "text/html": [
       "<div>\n",
       "<style scoped>\n",
       "    .dataframe tbody tr th:only-of-type {\n",
       "        vertical-align: middle;\n",
       "    }\n",
       "\n",
       "    .dataframe tbody tr th {\n",
       "        vertical-align: top;\n",
       "    }\n",
       "\n",
       "    .dataframe thead th {\n",
       "        text-align: right;\n",
       "    }\n",
       "</style>\n",
       "<table border=\"1\" class=\"dataframe\">\n",
       "  <thead>\n",
       "    <tr style=\"text-align: right;\">\n",
       "      <th></th>\n",
       "      <th>uid</th>\n",
       "      <th>date_index_diff</th>\n",
       "      <th>start_date</th>\n",
       "      <th>end_date</th>\n",
       "      <th>num</th>\n",
       "    </tr>\n",
       "  </thead>\n",
       "  <tbody>\n",
       "    <tr>\n",
       "      <th>0</th>\n",
       "      <td>1</td>\n",
       "      <td>0</td>\n",
       "      <td>2020-02-01</td>\n",
       "      <td>2020-02-01</td>\n",
       "      <td>1</td>\n",
       "    </tr>\n",
       "    <tr>\n",
       "      <th>1</th>\n",
       "      <td>1</td>\n",
       "      <td>1</td>\n",
       "      <td>2020-02-03</td>\n",
       "      <td>2020-02-04</td>\n",
       "      <td>2</td>\n",
       "    </tr>\n",
       "    <tr>\n",
       "      <th>2</th>\n",
       "      <td>1</td>\n",
       "      <td>2</td>\n",
       "      <td>2020-02-06</td>\n",
       "      <td>2020-02-08</td>\n",
       "      <td>3</td>\n",
       "    </tr>\n",
       "    <tr>\n",
       "      <th>3</th>\n",
       "      <td>2</td>\n",
       "      <td>0</td>\n",
       "      <td>2020-02-01</td>\n",
       "      <td>2020-02-01</td>\n",
       "      <td>1</td>\n",
       "    </tr>\n",
       "    <tr>\n",
       "      <th>4</th>\n",
       "      <td>2</td>\n",
       "      <td>2</td>\n",
       "      <td>2020-02-04</td>\n",
       "      <td>2020-02-08</td>\n",
       "      <td>5</td>\n",
       "    </tr>\n",
       "  </tbody>\n",
       "</table>\n",
       "</div>"
      ],
      "text/plain": [
       "  uid  date_index_diff  start_date    end_date  num\n",
       "0   1                0  2020-02-01  2020-02-01    1\n",
       "1   1                1  2020-02-03  2020-02-04    2\n",
       "2   1                2  2020-02-06  2020-02-08    3\n",
       "3   2                0  2020-02-01  2020-02-01    1\n",
       "4   2                2  2020-02-04  2020-02-08    5"
      ]
     },
     "execution_count": 3,
     "metadata": {},
     "output_type": "execute_result"
    }
   ],
   "source": [
    "# 法一, 如需统计最大连续天数对于num求最大值即可\n",
    "spark.sql(\"\"\"\n",
    "SELECT\n",
    "    uid\n",
    "    ,(datediff(t1.date, date('2020-02-01')) - index) as date_index_diff\n",
    "    ,min(date) as start_date\n",
    "    ,max(date) as end_date\n",
    "    ,count(1) as num\n",
    "FROM (\n",
    "    SELECT\n",
    "        uid\n",
    "        ,date\n",
    "        ,row_number() over(partition by uid order by date) - 1 as index\n",
    "    FROM base\n",
    "    WHERE is_flag=1\n",
    ") as t1\n",
    "GROUP BY 1, 2\n",
    "\"\"\").cache().toPandas()"
   ]
  }
 ],
 "metadata": {
  "kernelspec": {
   "display_name": "emr_py36",
   "language": "python",
   "name": "emr_py36"
  },
  "language_info": {
   "codemirror_mode": {
    "name": "ipython",
    "version": 3
   },
   "file_extension": ".py",
   "mimetype": "text/x-python",
   "name": "python",
   "nbconvert_exporter": "python",
   "pygments_lexer": "ipython3",
   "version": "3.6.10"
  },
  "toc": {
   "base_numbering": 1,
   "nav_menu": {},
   "number_sections": true,
   "sideBar": true,
   "skip_h1_title": false,
   "title_cell": "Table of Contents",
   "title_sidebar": "Contents",
   "toc_cell": false,
   "toc_position": {},
   "toc_section_display": true,
   "toc_window_display": false
  }
 },
 "nbformat": 4,
 "nbformat_minor": 4
}
