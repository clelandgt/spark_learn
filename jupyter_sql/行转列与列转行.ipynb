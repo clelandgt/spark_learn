{
 "cells": [
  {
   "cell_type": "code",
   "execution_count": 1,
   "metadata": {
    "ExecuteTime": {
     "end_time": "2020-02-22T11:20:13.467760Z",
     "start_time": "2020-02-22T11:20:08.672011Z"
    }
   },
   "outputs": [],
   "source": [
    "# spark 环境初始化与包导入\n",
    "import os\n",
    "import sys\n",
    "from pyspark.sql import SparkSession\n",
    "from pyspark.conf import SparkConf\n",
    "from pyspark.sql import functions as F\n",
    "\n",
    "sys.path.append(\"/home/worker/libs/advai_data_common-0.4.6-py3.6.egg\")\n",
    "sys.path.append(\"/home/worker/libs/data-ocean\")\n",
    "from asiacredit.conf.request import reqConf\n",
    "from asiacredit.util.pyspark import decrypt_data\n",
    "from asiacredit.util.pyspark.decrypt_data import DecryptData\n",
    "from asiacredit.util.requeset.http_request import Request\n",
    "\n",
    "\n",
    "def create_spark(driver_memory='4G', executor_memory='16G', py_files=None, jars=None, app_name=u'奔跑吧兄die ~~ '):\n",
    "    os.environ['SPARK_DRIVER_MEMORY'] = driver_memory\n",
    "    os.environ['SPARK_EXECUTO R_MEMORY'] = executor_memory\n",
    "\n",
    "    config = SparkConf()\n",
    "    config.set('spark.dynamicAllocation.maxExecutors', '8')\n",
    "    config.set('spark.driver.memory', driver_memory)\n",
    "    config.set('spark.executor.memory', executor_memory)\n",
    "    config.set('spark.executor.cores', '8')\n",
    "    config.set('spark.yarn.executora.memoryOverhead', '4G')\n",
    "    config.set('spark.sql.shuffle.partitions', '500')\n",
    "    config.set('spark.default.parallelism', '500')\n",
    "    config.set('spark.port.maxRetries', '1000')\n",
    "    config.set('spark.sql.sources.partitionOverwriteMode', 'dynamic')\n",
    "    config.set('spark.master','local[4]')\n",
    "    \n",
    "    if jars:\n",
    "        config.set('spark.jars', ','.join(jars))\n",
    "\n",
    "    spark = SparkSession.builder.appName(app_name).config(conf=config).enableHiveSupport().getOrCreate()\n",
    "\n",
    "    if py_files:\n",
    "        for f in py_files:\n",
    "            spark.sparkContext.addPyFile(f)\n",
    "\n",
    "    return spark\n",
    "\n",
    "spark = create_spark()\n"
   ]
  },
  {
   "cell_type": "code",
   "execution_count": 2,
   "metadata": {
    "ExecuteTime": {
     "end_time": "2020-02-22T11:20:15.321291Z",
     "start_time": "2020-02-22T11:20:13.469918Z"
    }
   },
   "outputs": [
    {
     "name": "stderr",
     "output_type": "stream",
     "text": [
      "/usr/lib/spark/python/pyspark/sql/session.py:346: UserWarning: inferring schema from dict is deprecated,please use pyspark.sql.Row instead\n",
      "  warnings.warn(\"inferring schema from dict is deprecated,\"\n"
     ]
    }
   ],
   "source": [
    "df = spark.createDataFrame([\n",
    "    {'id': 1, u'姓名': u'张三', u'分数': 88, u'科目': u'数学'},\n",
    "    {'id': 2, u'姓名': u'李雷', u'分数': 67, u'科目': u'数学'},\n",
    "    {'id': 3, u'姓名': u'宫九', u'分数': 77, u'科目': u'数学'},\n",
    "    {'id': 4, u'姓名': u'王五', u'分数': 65, u'科目': u'数学'},\n",
    "    {'id': 1, u'姓名': u'张三', u'分数': 77, u'科目': u'英语'},\n",
    "    {'id': 2, u'姓名': u'李雷', u'分数': 90, u'科目': u'英语'},\n",
    "    {'id': 3, u'姓名': u'宫九', u'分数': 24, u'科目': u'英语'},\n",
    "    {'id': 4, u'姓名': u'王五', u'分数': 90, u'科目': u'英语'},\n",
    "    {'id': 1, u'姓名': u'张三', u'分数': 33, u'科目': u'语文'},\n",
    "    {'id': 2, u'姓名': u'李雷', u'分数': 87, u'科目': u'语文'},\n",
    "    {'id': 3, u'姓名': u'宫九', u'分数': 92, u'科目': u'语文'},\n",
    "    {'id': 4, u'姓名': u'王五', u'分数': 87, u'科目': u'语文'},\n",
    "\n",
    "])"
   ]
  },
  {
   "cell_type": "markdown",
   "metadata": {},
   "source": [
    "## 行转列"
   ]
  },
  {
   "cell_type": "code",
   "execution_count": 3,
   "metadata": {
    "ExecuteTime": {
     "end_time": "2020-02-22T11:20:22.546439Z",
     "start_time": "2020-02-22T11:20:15.323369Z"
    }
   },
   "outputs": [
    {
     "name": "stdout",
     "output_type": "stream",
     "text": [
      "+---+----+----+----+\n",
      "| id|分数|姓名|科目|\n",
      "+---+----+----+----+\n",
      "|  1|  88|张三|数学|\n",
      "|  2|  67|李雷|数学|\n",
      "|  3|  77|宫九|数学|\n",
      "|  4|  65|王五|数学|\n",
      "|  1|  77|张三|英语|\n",
      "|  2|  90|李雷|英语|\n",
      "|  3|  24|宫九|英语|\n",
      "|  4|  90|王五|英语|\n",
      "|  1|  33|张三|语文|\n",
      "|  2|  87|李雷|语文|\n",
      "|  3|  92|宫九|语文|\n",
      "|  4|  87|王五|语文|\n",
      "+---+----+----+----+\n",
      "\n"
     ]
    }
   ],
   "source": [
    "df.createOrReplaceTempView('df')\n",
    "df.show()"
   ]
  },
  {
   "cell_type": "code",
   "execution_count": 4,
   "metadata": {
    "ExecuteTime": {
     "end_time": "2020-02-22T11:20:33.747772Z",
     "start_time": "2020-02-22T11:20:22.548199Z"
    }
   },
   "outputs": [
    {
     "name": "stdout",
     "output_type": "stream",
     "text": [
      "+---+----+----+----+----+\n",
      "| id|姓名|数学|英语|语文|\n",
      "+---+----+----+----+----+\n",
      "|  1|张三|  88|  77|  33|\n",
      "|  2|李雷|  67|  90|  87|\n",
      "|  3|宫九|  77|  24|  92|\n",
      "|  4|王五|  65|  90|  87|\n",
      "+---+----+----+----+----+\n",
      "\n"
     ]
    }
   ],
   "source": [
    "# 行转列\n",
    "df_pivot = spark.sql(\"\"\"\n",
    "SELECT\n",
    "    * \n",
    "FROM df\n",
    "     PIVOT\n",
    "     (\n",
    "         SUM(`分数`) \n",
    "         FOR `科目` in ('数学','英语','语文')\n",
    "     )\n",
    "ORDER BY id      \n",
    "\"\"\").cache()\n",
    "df_pivot.createOrReplaceTempView('df_pivot')\n",
    "df_pivot.show()"
   ]
  },
  {
   "cell_type": "markdown",
   "metadata": {},
   "source": [
    "## 列转行\n",
    "\n"
   ]
  },
  {
   "cell_type": "code",
   "execution_count": 5,
   "metadata": {
    "ExecuteTime": {
     "end_time": "2020-02-22T11:20:33.986480Z",
     "start_time": "2020-02-22T11:20:33.749430Z"
    }
   },
   "outputs": [
    {
     "name": "stdout",
     "output_type": "stream",
     "text": [
      "+---+----+----+----+\n",
      "| id|姓名|科目|分数|\n",
      "+---+----+----+----+\n",
      "|  1|张三|数学|  88|\n",
      "|  1|张三|英语|  77|\n",
      "|  1|张三|语文|  33|\n",
      "|  2|李雷|数学|  67|\n",
      "|  2|李雷|英语|  90|\n",
      "|  2|李雷|语文|  87|\n",
      "|  3|宫九|数学|  77|\n",
      "|  3|宫九|英语|  24|\n",
      "|  3|宫九|语文|  92|\n",
      "|  4|王五|数学|  65|\n",
      "|  4|王五|英语|  90|\n",
      "|  4|王五|语文|  87|\n",
      "+---+----+----+----+\n",
      "\n"
     ]
    }
   ],
   "source": [
    "spark.sql(\"\"\"\n",
    "SELECT\n",
    "    id\n",
    "    ,`姓名`\n",
    "    ,stack(3, '数学', `数学`, '英语', `英语`, '语文', `语文`) as (`科目`, `分数`)\n",
    "FROM df_pivot\n",
    "\"\"\").cache().show()"
   ]
  },
  {
   "cell_type": "code",
   "execution_count": 7,
   "metadata": {
    "ExecuteTime": {
     "end_time": "2020-02-22T11:20:47.921419Z",
     "start_time": "2020-02-22T11:20:47.833149Z"
    }
   },
   "outputs": [
    {
     "name": "stdout",
     "output_type": "stream",
     "text": [
      "+---+----+----+----+\n",
      "| id|姓名|科目|分数|\n",
      "+---+----+----+----+\n",
      "|  1|张三|数学|  88|\n",
      "|  2|李雷|数学|  67|\n",
      "|  3|宫九|数学|  77|\n",
      "|  4|王五|数学|  65|\n",
      "+---+----+----+----+\n",
      "\n"
     ]
    }
   ],
   "source": [
    "# 只看转化一部分数据\n",
    "spark.sql(\"\"\"\n",
    "SELECT\n",
    "    id\n",
    "    ,`姓名`\n",
    "    ,stack(1, '数学', `数学`) as (`科目`, `分数`)\n",
    "FROM df_pivot\n",
    "\"\"\").cache().show()"
   ]
  },
  {
   "cell_type": "markdown",
   "metadata": {},
   "source": [
    "## 参考\n",
    "\n",
    "- https://databricks.com/blog/2018/11/01/sql-pivot-converting-rows-to-columns.html\n",
    "- https://www.cnblogs.com/hhelibeb/p/10310369.html\n",
    "\n",
    "TODO:\n",
    "\n",
    "pivot的高级用法, 以及与group by的区别\n"
   ]
  }
 ],
 "metadata": {
  "kernelspec": {
   "display_name": "emr_py36",
   "language": "python",
   "name": "emr_py36"
  },
  "language_info": {
   "codemirror_mode": {
    "name": "ipython",
    "version": 3
   },
   "file_extension": ".py",
   "mimetype": "text/x-python",
   "name": "python",
   "nbconvert_exporter": "python",
   "pygments_lexer": "ipython3",
   "version": "3.6.9"
  },
  "toc": {
   "base_numbering": 1,
   "nav_menu": {},
   "number_sections": true,
   "sideBar": true,
   "skip_h1_title": false,
   "title_cell": "Table of Contents",
   "title_sidebar": "Contents",
   "toc_cell": false,
   "toc_position": {},
   "toc_section_display": true,
   "toc_window_display": true
  }
 },
 "nbformat": 4,
 "nbformat_minor": 2
}
